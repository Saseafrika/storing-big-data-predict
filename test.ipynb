{
 "cells": [
  {
   "cell_type": "code",
   "execution_count": 5,
   "metadata": {},
   "outputs": [],
   "source": [
    "from datetime import datetime, timedelta\n",
    "\n",
    "def get_current_time(second_delta):\n",
    "    \"\"\"Function to get and return the current time changed by a specific \n",
    "    delta in seconds. \n",
    "\n",
    "    Args:\n",
    "        second_delta (int): Delta in seconds to be added from the time.\n",
    "\n",
    "    Returns:\n",
    "        datetime.datetime: Current time with delta time applied.\n",
    "    \"\"\"\n",
    "    now = datetime(2023,11,28,22,43,15)\n",
    "    current_delta_time = now + timedelta(seconds=second_delta)  # Convert datetime to number then back to datetime\n",
    "\n",
    "    return current_delta_time"
   ]
  },
  {
   "cell_type": "code",
   "execution_count": 7,
   "metadata": {},
   "outputs": [
    {
     "data": {
      "text/plain": [
       "datetime.datetime(2023, 11, 28, 22, 43, 30)"
      ]
     },
     "execution_count": 7,
     "metadata": {},
     "output_type": "execute_result"
    }
   ],
   "source": [
    "#get_current_time(0)\n",
    "get_current_time(15)\n",
    "#get_current_time(30)\n",
    "#get_current_time(45)\n",
    "#get_current_time(60)"
   ]
  },
  {
   "cell_type": "code",
   "execution_count": 6,
   "metadata": {},
   "outputs": [],
   "source": [
    "from functools import reduce \n",
    "\n",
    "def list_to_dict(lst):\n",
    "    return {key: value for d in lst for key, value in d.items()}\n",
    "# Generate new ticker values\n",
    "batch = []\n",
    "for data_gen in range(0,2):\n",
    "    # Ticker1\n",
    "    temp_dict1 = {'Index': 'Index_1','Price': 46.67}\n",
    "    batch.append(temp_dict1)\n",
    "    # Ticker2\n",
    "    temp_dict2 = {'Index': 'Index_2','Price': 61.17}\n",
    "    batch.append(temp_dict2)\n",
    "    # Ticker3\n",
    "    temp_dict3 = {'Index': 'Index_3','Price': 101.68}\n",
    "    batch.append(temp_dict3)"
   ]
  },
  {
   "cell_type": "code",
   "execution_count": 7,
   "metadata": {},
   "outputs": [
    {
     "data": {
      "text/plain": [
       "{'Index': 'Index_3', 'Price': 101.68}"
      ]
     },
     "execution_count": 7,
     "metadata": {},
     "output_type": "execute_result"
    }
   ],
   "source": [
    "list_to_dict(batch)\n"
   ]
  }
 ],
 "metadata": {
  "kernelspec": {
   "display_name": "base",
   "language": "python",
   "name": "python3"
  },
  "language_info": {
   "codemirror_mode": {
    "name": "ipython",
    "version": 3
   },
   "file_extension": ".py",
   "mimetype": "text/x-python",
   "name": "python",
   "nbconvert_exporter": "python",
   "pygments_lexer": "ipython3",
   "version": "3.11.4"
  }
 },
 "nbformat": 4,
 "nbformat_minor": 2
}
